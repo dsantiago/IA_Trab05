{
 "cells": [
  {
   "cell_type": "code",
   "execution_count": 8,
   "metadata": {},
   "outputs": [],
   "source": [
    "from math import comb"
   ]
  },
  {
   "attachments": {},
   "cell_type": "markdown",
   "metadata": {},
   "source": [
    "---\n",
    "## Exercício 1\n",
    "\n",
    "Obs: Os valores já estão em porcentagem, ou seja, multiplicados por 100."
   ]
  },
  {
   "cell_type": "code",
   "execution_count": 87,
   "metadata": {},
   "outputs": [
    {
     "name": "stdout",
     "output_type": "stream",
     "text": [
      "a.  Qtd. de mãos possíveis com 5 cartas:\t2598960\n",
      "b.  Probabilidade de cada evento atômico:\t0.0000384769%\n",
      "c1. Probabilidade royal straight flush:\t\t0.0001539077%\n",
      "c2. Probabilidade 4 cartas mesmo naipe:\t\t1.0564225690%\n"
     ]
    }
   ],
   "source": [
    "n_events =  comb(52, 5)\n",
    "same_suit4 = 4 * comb(13, 4) / comb(52, 4)\n",
    "\n",
    "print(f\"a.  Qtd. de mãos possíveis com 5 cartas:\\t{n_events}\")\n",
    "print(f\"b.  Probabilidade de cada evento atômico:\\t{1 / n_events * 100:.10f}%\")\n",
    "print(f\"c1. Probabilidade royal straight flush:\\t\\t{4 / n_events * 100:.10f}%\")\n",
    "print(f\"c2. Probabilidade 4 cartas mesmo naipe:\\t\\t{same_suit4 * 100:.10f}%\")"
   ]
  },
  {
   "attachments": {},
   "cell_type": "markdown",
   "metadata": {},
   "source": [
    "---\n",
    "## Exercício 2\n",
    "\n",
    "Para calcular a probabilidade de uma pessoa ter tomado a vacina dado que ela tem gripe, usamos o Teorema de Bayes:\n",
    "\n",
    "$$ P(S|F) = \\frac{P(F|S) \\ \\ P(S)}{P(F)} $$\n",
    "\n",
    "</br>\n",
    "\n",
    "onde $P(S|F)$ é a probabilidade de ter tomado a vacina dado que tem gripe. Conhecemos os valores e substituiremos na fórmula:\n",
    "\n",
    "$$\n",
    "(F) = 0.75 \\\\ \\\\\n",
    "P(S) = 0.5 \\\\\n",
    "P(F|S) = 0.1 \n",
    "$$\n",
    "\n",
    "</br>\n",
    "\n",
    "$$ P(S|F) = \\frac{0.1 \\ \\ 0.5}{0.75} = 0.0666667 $$\n",
    "\n",
    "A probabilidade de uma pessoa que tem gripe ter tomado a vacina é de aproximadamente __6,67%__."
   ]
  },
  {
   "attachments": {},
   "cell_type": "markdown",
   "metadata": {},
   "source": [
    "---\n",
    "## Exercício 3\n",
    "\n",
    "<center>\n",
    "\n",
    "Assumindo que $P(A=Sim)$:\n",
    "\n",
    "| |$P(A=Sim)$|\n",
    "|-|-----------|\n",
    "|$$P(B\\|A) \\\\ P(C\\|A)$$|$$1 \\\\ 1$$|\n",
    "\n",
    "</br>\n",
    "\n",
    "E a tabela condicional das combinações de $P(D|C,B)$:\n",
    "\n",
    "| |$P(A=Sim)$|Válido|\n",
    "|-|----------|------|\n",
    "|$P(D\\|B,C)$|$$1$$| <center>x</center> |\n",
    "|$P(D\\|B,\\neg C)$|$$0.5$$| |\n",
    "|$P(D\\|\\neg B,C)$|$$0.5$$| |\n",
    "|$P(D\\|\\neg B,\\neg C)$|$$0$$| |\n",
    "\n",
    "</br>\n",
    "\n",
    "Executamos a regra da cadeia marginalizando os valores:\n",
    "</br>\n",
    "\n",
    "$$\n",
    "P(D|B,C) \\ . \\ P(B|A) \\ . \\ P(C|A) \\ . \\ P(A) = \\\\\n",
    "1 \\ . \\ 1 \\ . \\ 1 \\ . \\ 1 = 1 \\text{ ou } 100\\%\n",
    "$$\n",
    "\n",
    "</center>\n",
    "\n",
    "</br>\n",
    "\n",
    "#### R: Resumindo, para todo candidato qualificado a chance de ele ser contratado é de 100%.\n",
    "---"
   ]
  },
  {
   "cell_type": "code",
   "execution_count": null,
   "metadata": {},
   "outputs": [],
   "source": []
  }
 ],
 "metadata": {
  "kernelspec": {
   "display_name": "base",
   "language": "python",
   "name": "python3"
  },
  "language_info": {
   "codemirror_mode": {
    "name": "ipython",
    "version": 3
   },
   "file_extension": ".py",
   "mimetype": "text/x-python",
   "name": "python",
   "nbconvert_exporter": "python",
   "pygments_lexer": "ipython3",
   "version": "3.11.0"
  },
  "orig_nbformat": 4
 },
 "nbformat": 4,
 "nbformat_minor": 2
}
